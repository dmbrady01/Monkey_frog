{
 "cells": [
  {
   "cell_type": "markdown",
   "metadata": {},
   "source": [
    "Since we are moving toward a more build your own analyses approach, I figured this cross correlation analysis would be a good place to start. I will load modules as needed (as opposed to at the very beginning).\n",
    "\n",
    "# Part 1: Preparing Velocity Data\n",
    "\n",
    "To start, we need to load and prepare the velocity data. Since it is in an ethovision format, we will borrow some of the code from `behavioral_analysis`. This part of the analysis will take place in three stages:\n",
    "\n",
    "1. Load velocity data from the ethovision file\n",
    "2. Get "
   ]
  },
  {
   "cell_type": "code",
   "execution_count": null,
   "metadata": {},
   "outputs": [],
   "source": []
  }
 ],
 "metadata": {
  "kernelspec": {
   "display_name": "Python 2",
   "language": "python",
   "name": "python2"
  },
  "language_info": {
   "codemirror_mode": {
    "name": "ipython",
    "version": 2
   },
   "file_extension": ".py",
   "mimetype": "text/x-python",
   "name": "python",
   "nbconvert_exporter": "python",
   "pygments_lexer": "ipython2",
   "version": "2.7.16"
  }
 },
 "nbformat": 4,
 "nbformat_minor": 2
}
